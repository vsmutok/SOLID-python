{
 "cells": [
  {
   "cell_type": "markdown",
   "source": [
    "## Принцип єдиної відповідальності\n",
    "\n",
    "“…Ви повинні мати одну роботу” - Локі до Скерджа в:\n",
    "_Тор Рагнарок_\n",
    "\n",
    "У класі має бути тільки одне завдання. Якщо клас має більше ніж одну відповідальність,\n",
    "він стає зв’язаним. Зміна однієї відповідальності призводить до зміни іншої відповідальності."
   ],
   "metadata": {
    "collapsed": false
   }
  },
  {
   "cell_type": "code",
   "execution_count": null,
   "outputs": [],
   "source": [
    "class Animal:\n",
    "    def __init__(self, name: str) -> None:\n",
    "        self.name = name\n",
    "\n",
    "    def get_name(self) -> str:\n",
    "        pass\n",
    "\n",
    "    def save(self, animal: Animal) -> None:\n",
    "        pass"
   ],
   "metadata": {
    "collapsed": false
   }
  },
  {
   "cell_type": "markdown",
   "source": [
    "#### Клас Animal порушує SRP.\n",
    "\n",
    "### Як саме він порушує SRP?\n",
    "\n",
    "SRP стверджує, що класи повинні мати одну відповідальність, тут ми можемо побачити, що клас має\n",
    "дві відповідальності: управління базою даних тварин і управління властивостями тварин  тварин.\n",
    "Конструктор і get_name керують властивостями Animal, тоді як\n",
    "save керує сховищем тварин у базі даних.\n",
    "\n",
    "Як це може викликати проблеми в майбутньому?\n",
    "\n",
    "Якщо програма змінюється таким чином, що це впливає на функції керування базою даних.\n",
    "Класи, які використовують властивості Animal, повинні бути\n",
    "перероблено, щоб компенсувати нові зміни.\n",
    "\n",
    "Як ви бачите ця система так собі.\n",
    "Це як ефект доміно, торкніться одного це впливає на всі інші карти в рядку.\n",
    "\n",
    "Щоб це відповідало SRP, ми створюємо ще один клас,\n",
    "який відповідатиме виключно за збереження тварини в базі даних:"
   ],
   "metadata": {
    "collapsed": false
   }
  },
  {
   "cell_type": "code",
   "execution_count": null,
   "outputs": [],
   "source": [
    "class Animal:\n",
    "    def __init__(self, name: str) -> None:\n",
    "        self.name = name\n",
    "\n",
    "    def get_name(self) -> str:\n",
    "        pass\n",
    "\n",
    "\n",
    "class AnimalDB:\n",
    "    def get_animal(self, id: int) -> Animal:\n",
    "        pass\n",
    "\n",
    "    def save(self, animal: Animal) -> None:\n",
    "        pass"
   ],
   "metadata": {
    "collapsed": false
   }
  },
  {
   "cell_type": "markdown",
   "source": [
    "При проектуванні наших класів ми повинні намагатись збирати пов'язані функції разом,\n",
    "щоб кожен раз, коли вони змінюються, вони змінювалися з тієї ж причини.\n",
    "А також ми повинні намагатись розділяти функції, якщо вони змінюються з різних причин.\n",
    "_Стів Фентон_"
   ],
   "metadata": {
    "collapsed": false
   }
  },
  {
   "cell_type": "markdown",
   "source": [
    "Недоліком цього рішення є те, що клієнтам цього коду доводиться мати справу з двома класами.\n",
    "Загальним вирішенням цієї дилеми є застосування патерну «Фасад».\n",
    "Клас Animal буде «Фасадом» для керування базою даних тварин і управління властивостями тварин."
   ],
   "metadata": {
    "collapsed": false
   }
  },
  {
   "cell_type": "code",
   "execution_count": null,
   "outputs": [],
   "source": [
    "class Animal:\n",
    "    def __init__(self, name: str):\n",
    "        self.name = name\n",
    "        self.db = AnimalDB()\n",
    "\n",
    "    def get_name(self) -> str:\n",
    "        return self.name\n",
    "\n",
    "    def get(self, id: int) -> Animal:\n",
    "        return self.db.get_animal(id)\n",
    "\n",
    "    def save(self) -> None:\n",
    "        self.db.save(animal=self)"
   ],
   "metadata": {
    "collapsed": false
   }
  },
  {
   "cell_type": "markdown",
   "source": [
    "Найважливіші методи зберігаються в класі Animal і використовуються як фасад для менших функцій."
   ],
   "metadata": {
    "collapsed": false
   }
  }
 ],
 "metadata": {
  "kernelspec": {
   "display_name": "Python 3",
   "language": "python",
   "name": "python3"
  },
  "language_info": {
   "codemirror_mode": {
    "name": "ipython",
    "version": 2
   },
   "file_extension": ".py",
   "mimetype": "text/x-python",
   "name": "python",
   "nbconvert_exporter": "python",
   "pygments_lexer": "ipython2",
   "version": "2.7.6"
  }
 },
 "nbformat": 4,
 "nbformat_minor": 0
}
